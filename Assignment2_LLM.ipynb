{
 "cells": [
  {
   "cell_type": "code",
   "execution_count": null,
   "metadata": {
    "id": "fnJv_r_15JTi"
   },
   "outputs": [],
   "source": [
    "import polars as pl\n",
    "import pandas as pd\n",
    "import numpy as np\n",
    "import torch\n",
    "import torch.nn.functional as F\n",
    "\n",
    "from sklearn.model_selection import train_test_split\n",
    "from sklearn.metrics import accuracy_score, precision_recall_fscore_support\n",
    "from datasets import Dataset, DatasetDict\n",
    "from transformers import (\n",
    "    AutoTokenizer,\n",
    "    AutoModelForSequenceClassification,\n",
    "    TrainingArguments,\n",
    "    Trainer,\n",
    "    EarlyStoppingCallback,\n",
    ")\n",
    "import evaluate\n",
    "import os\n",
    "os.environ[\"WANDB_DISABLED\"] = \"true\"\n",
    "from sklearn.metrics import confusion_matrix, ConfusionMatrixDisplay\n",
    "import matplotlib.pyplot as plt\n",
    "import numpy as np\n",
    "from collections import Counter\n",
    "from pathlib import Path"
   ]
  },
  {
   "cell_type": "code",
   "execution_count": null,
   "metadata": {
    "id": "Z1JHXq0q03cz"
   },
   "outputs": [],
   "source": [
    "# Login using e.g. `huggingface-cli login` to access this dataset\n",
    "df = pl.read_parquet('hf://datasets/sumuks/CodeNet-16K/data/train-00000-of-00001.parquet')"
   ]
  },
  {
   "cell_type": "code",
   "execution_count": null,
   "metadata": {
    "colab": {
     "base_uri": "https://localhost:8080/",
     "height": 552
    },
    "id": "qWXQyK-Q1Aq0",
    "outputId": "fbb878cc-d07a-42f9-a307-44d31c6c28cf"
   },
   "outputs": [
    {
     "data": {
      "text/html": [
       "<div><style>\n",
       ".dataframe > thead > tr,\n",
       ".dataframe > tbody > tr {\n",
       "  text-align: right;\n",
       "  white-space: pre-wrap;\n",
       "}\n",
       "</style>\n",
       "<small>shape: (5, 9)</small><table border=\"1\" class=\"dataframe\"><thead><tr><th>output_description</th><th>submission_id</th><th>status</th><th>problem_id</th><th>input_description</th><th>attempt</th><th>problem_description</th><th>samples</th><th>plan</th></tr><tr><td>str</td><td>str</td><td>str</td><td>str</td><td>str</td><td>str</td><td>str</td><td>str</td><td>str</td></tr></thead><tbody><tr><td>&quot;For each query i in order of i…</td><td>&quot;s422209750&quot;</td><td>&quot;Runtime Error&quot;</td><td>&quot;p03466&quot;</td><td>&quot;Input is given from Standard I…</td><td>&quot;for t in range(int(input())):\n",
       "…</td><td>&quot;Statement\n",
       "\n",
       "Let f(A, B), where …</td><td>&quot;[{&quot;input&quot;: &quot;5\\n&nbsp;&nbsp;&nbsp;&nbsp;2 3 1 5\\n&nbsp;&nbsp;…</td><td>&quot;\n",
       "\n",
       "&lt;thinking&gt;\n",
       "\n",
       "To solve this pr…</td></tr><tr><td>&quot;Print 10 lines. The i-th line …</td><td>&quot;s997370292&quot;</td><td>&quot;Accepted&quot;</td><td>&quot;p03036&quot;</td><td>&quot;Input is given from Standard I…</td><td>&quot;R, D, X2000 = [int(i) for i in…</td><td>&quot;Statement\n",
       "\n",
       "The development of …</td><td>&quot;[{&quot;input&quot;: &quot;2 10 20&quot;, &quot;output&quot;…</td><td>&quot;\n",
       "\n",
       "&lt;thinking&gt;\n",
       "\n",
       "The problem is t…</td></tr><tr><td>&quot;Print 10 lines. The i-th line …</td><td>&quot;s838022602&quot;</td><td>&quot;Runtime Error&quot;</td><td>&quot;p03036&quot;</td><td>&quot;Input is given from Standard I…</td><td>&quot;#! python3\n",
       "#&nbsp;&nbsp;solve127A.py\n",
       "\n",
       "ag…</td><td>&quot;Statement\n",
       "\n",
       "The development of …</td><td>&quot;[{&quot;input&quot;: &quot;2 10 20&quot;, &quot;output&quot;…</td><td>&quot;\n",
       "\n",
       "&lt;thinking&gt;\n",
       "\n",
       "To solve this pr…</td></tr><tr><td>&quot;Print 10 lines. The i-th line …</td><td>&quot;s457969152&quot;</td><td>&quot;Accepted&quot;</td><td>&quot;p03036&quot;</td><td>&quot;Input is given from Standard I…</td><td>&quot;import sys\n",
       "\n",
       "a = sys.stdin.read…</td><td>&quot;Statement\n",
       "\n",
       "The development of …</td><td>&quot;[{&quot;input&quot;: &quot;2 10 20&quot;, &quot;output&quot;…</td><td>&quot;\n",
       "\n",
       "&lt;thinking&gt;\n",
       "To solve this pro…</td></tr><tr><td>&quot;Print 10 lines. The i-th line …</td><td>&quot;s918528085&quot;</td><td>&quot;Accepted&quot;</td><td>&quot;p03036&quot;</td><td>&quot;Input is given from Standard I…</td><td>&quot;r, d, x = map(int, input().spl…</td><td>&quot;Statement\n",
       "\n",
       "The development of …</td><td>&quot;[{&quot;input&quot;: &quot;2 10 20&quot;, &quot;output&quot;…</td><td>&quot;\n",
       "\n",
       "&lt;thinking&gt;\n",
       "\n",
       "To solve this pr…</td></tr></tbody></table></div>"
      ],
      "text/plain": [
       "shape: (5, 9)\n",
       "┌───────────┬───────────┬───────────┬───────────┬───┬───────────┬───────────┬───────────┬──────────┐\n",
       "│ output_de ┆ submissio ┆ status    ┆ problem_i ┆ … ┆ attempt   ┆ problem_d ┆ samples   ┆ plan     │\n",
       "│ scription ┆ n_id      ┆ ---       ┆ d         ┆   ┆ ---       ┆ escriptio ┆ ---       ┆ ---      │\n",
       "│ ---       ┆ ---       ┆ str       ┆ ---       ┆   ┆ str       ┆ n         ┆ str       ┆ str      │\n",
       "│ str       ┆ str       ┆           ┆ str       ┆   ┆           ┆ ---       ┆           ┆          │\n",
       "│           ┆           ┆           ┆           ┆   ┆           ┆ str       ┆           ┆          │\n",
       "╞═══════════╪═══════════╪═══════════╪═══════════╪═══╪═══════════╪═══════════╪═══════════╪══════════╡\n",
       "│ For each  ┆ s42220975 ┆ Runtime   ┆ p03466    ┆ … ┆ for t in  ┆ Statement ┆ [{\"input\" ┆          │\n",
       "│ query i   ┆ 0         ┆ Error     ┆           ┆   ┆ range(int ┆           ┆ : \"5\\n    ┆          │\n",
       "│ in order  ┆           ┆           ┆           ┆   ┆ (input()) ┆ Let f(A,  ┆ 2 3 1 5\\n ┆ <thinkin │\n",
       "│ of i…     ┆           ┆           ┆           ┆   ┆ ):        ┆ B), where ┆ …         ┆ g>       │\n",
       "│           ┆           ┆           ┆           ┆   ┆ …         ┆ …         ┆           ┆          │\n",
       "│           ┆           ┆           ┆           ┆   ┆           ┆           ┆           ┆ To solve │\n",
       "│           ┆           ┆           ┆           ┆   ┆           ┆           ┆           ┆ this pr… │\n",
       "│ Print 10  ┆ s99737029 ┆ Accepted  ┆ p03036    ┆ … ┆ R, D,     ┆ Statement ┆ [{\"input\" ┆          │\n",
       "│ lines.    ┆ 2         ┆           ┆           ┆   ┆ X2000 =   ┆           ┆ : \"2 10   ┆          │\n",
       "│ The i-th  ┆           ┆           ┆           ┆   ┆ [int(i)   ┆ The devel ┆ 20\",      ┆ <thinkin │\n",
       "│ line …    ┆           ┆           ┆           ┆   ┆ for i in… ┆ opment of ┆ \"output\"… ┆ g>       │\n",
       "│           ┆           ┆           ┆           ┆   ┆           ┆ …         ┆           ┆          │\n",
       "│           ┆           ┆           ┆           ┆   ┆           ┆           ┆           ┆ The      │\n",
       "│           ┆           ┆           ┆           ┆   ┆           ┆           ┆           ┆ problem  │\n",
       "│           ┆           ┆           ┆           ┆   ┆           ┆           ┆           ┆ is t…    │\n",
       "│ Print 10  ┆ s83802260 ┆ Runtime   ┆ p03036    ┆ … ┆ #!        ┆ Statement ┆ [{\"input\" ┆          │\n",
       "│ lines.    ┆ 2         ┆ Error     ┆           ┆   ┆ python3   ┆           ┆ : \"2 10   ┆          │\n",
       "│ The i-th  ┆           ┆           ┆           ┆   ┆ #  solve1 ┆ The devel ┆ 20\",      ┆ <thinkin │\n",
       "│ line …    ┆           ┆           ┆           ┆   ┆ 27A.py    ┆ opment of ┆ \"output\"… ┆ g>       │\n",
       "│           ┆           ┆           ┆           ┆   ┆           ┆ …         ┆           ┆          │\n",
       "│           ┆           ┆           ┆           ┆   ┆ ag…       ┆           ┆           ┆ To solve │\n",
       "│           ┆           ┆           ┆           ┆   ┆           ┆           ┆           ┆ this pr… │\n",
       "│ Print 10  ┆ s45796915 ┆ Accepted  ┆ p03036    ┆ … ┆ import    ┆ Statement ┆ [{\"input\" ┆          │\n",
       "│ lines.    ┆ 2         ┆           ┆           ┆   ┆ sys       ┆           ┆ : \"2 10   ┆          │\n",
       "│ The i-th  ┆           ┆           ┆           ┆   ┆           ┆ The devel ┆ 20\",      ┆ <thinkin │\n",
       "│ line …    ┆           ┆           ┆           ┆   ┆ a = sys.s ┆ opment of ┆ \"output\"… ┆ g>       │\n",
       "│           ┆           ┆           ┆           ┆   ┆ tdin.read ┆ …         ┆           ┆ To solve │\n",
       "│           ┆           ┆           ┆           ┆   ┆ …         ┆           ┆           ┆ this     │\n",
       "│           ┆           ┆           ┆           ┆   ┆           ┆           ┆           ┆ pro…     │\n",
       "│ Print 10  ┆ s91852808 ┆ Accepted  ┆ p03036    ┆ … ┆ r, d, x = ┆ Statement ┆ [{\"input\" ┆          │\n",
       "│ lines.    ┆ 5         ┆           ┆           ┆   ┆ map(int,  ┆           ┆ : \"2 10   ┆          │\n",
       "│ The i-th  ┆           ┆           ┆           ┆   ┆ input().s ┆ The devel ┆ 20\",      ┆ <thinkin │\n",
       "│ line …    ┆           ┆           ┆           ┆   ┆ pl…       ┆ opment of ┆ \"output\"… ┆ g>       │\n",
       "│           ┆           ┆           ┆           ┆   ┆           ┆ …         ┆           ┆          │\n",
       "│           ┆           ┆           ┆           ┆   ┆           ┆           ┆           ┆ To solve │\n",
       "│           ┆           ┆           ┆           ┆   ┆           ┆           ┆           ┆ this pr… │\n",
       "└───────────┴───────────┴───────────┴───────────┴───┴───────────┴───────────┴───────────┴──────────┘"
      ]
     },
     "execution_count": 4,
     "metadata": {},
     "output_type": "execute_result"
    }
   ],
   "source": [
    "# Display the first few rows of the DataFrame to inspect its structure\n",
    "df.head()"
   ]
  },
  {
   "cell_type": "code",
   "execution_count": null,
   "metadata": {
    "colab": {
     "base_uri": "https://localhost:8080/"
    },
    "id": "dr1-SWp91QXZ",
    "outputId": "f03c5945-3cf9-47ad-88d5-fa564c59fb93"
   },
   "outputs": [
    {
     "name": "stdout",
     "output_type": "stream",
     "text": [
      "Number of unique statuses: 3\n"
     ]
    }
   ],
   "source": [
    "# df as  Polars DataFrame\n",
    "unique_status_count = df['status'].n_unique()\n",
    "print(f\"Number of unique statuses: {unique_status_count}\")"
   ]
  },
  {
   "cell_type": "code",
   "execution_count": null,
   "metadata": {
    "colab": {
     "base_uri": "https://localhost:8080/"
    },
    "id": "dNQQBUMN4SiF",
    "outputId": "faf15f7d-cf10-48c5-b7f7-bdade23ec3e4"
   },
   "outputs": [
    {
     "name": "stdout",
     "output_type": "stream",
     "text": [
      "shape: (3,)\n",
      "Series: 'status' [str]\n",
      "[\n",
      "\t\"Runtime Error\"\n",
      "\t\"Accepted\"\n",
      "\t\"Wrong Answer\"\n",
      "]\n"
     ]
    }
   ],
   "source": [
    "# Get the unique values from the 'status' column\n",
    "unique_statuses = df['status'].unique()\n",
    "print(unique_statuses)"
   ]
  },
  {
   "cell_type": "code",
   "execution_count": null,
   "metadata": {
    "colab": {
     "base_uri": "https://localhost:8080/",
     "height": 192
    },
    "id": "S7ZXkGHejN1G",
    "outputId": "bda6f36c-3abf-4cb5-8c1f-6447c686e962"
   },
   "outputs": [
    {
     "data": {
      "text/html": [
       "<div><style>\n",
       ".dataframe > thead > tr,\n",
       ".dataframe > tbody > tr {\n",
       "  text-align: right;\n",
       "  white-space: pre-wrap;\n",
       "}\n",
       "</style>\n",
       "<small>shape: (3, 2)</small><table border=\"1\" class=\"dataframe\"><thead><tr><th>status</th><th>count</th></tr><tr><td>str</td><td>u32</td></tr></thead><tbody><tr><td>&quot;Accepted&quot;</td><td>3962</td></tr><tr><td>&quot;Runtime Error&quot;</td><td>9013</td></tr><tr><td>&quot;Wrong Answer&quot;</td><td>3566</td></tr></tbody></table></div>"
      ],
      "text/plain": [
       "shape: (3, 2)\n",
       "┌───────────────┬───────┐\n",
       "│ status        ┆ count │\n",
       "│ ---           ┆ ---   │\n",
       "│ str           ┆ u32   │\n",
       "╞═══════════════╪═══════╡\n",
       "│ Accepted      ┆ 3962  │\n",
       "│ Runtime Error ┆ 9013  │\n",
       "│ Wrong Answer  ┆ 3566  │\n",
       "└───────────────┴───────┘"
      ]
     },
     "execution_count": 7,
     "metadata": {},
     "output_type": "execute_result"
    }
   ],
   "source": [
    "# Count how many times each unique status appear in the DataFrame\n",
    "df['status'].value_counts()"
   ]
  },
  {
   "cell_type": "code",
   "execution_count": null,
   "metadata": {
    "colab": {
     "base_uri": "https://localhost:8080/",
     "height": 472
    },
    "id": "mosi6SZTiQwd",
    "outputId": "df3e3b57-7c05-4d0b-a3ad-96b7d74ab9da"
   },
   "outputs": [
    {
     "data": {
      "image/png": "[encoded data removed]",
      "text/plain": [
       "<Figure size 640x480 with 1 Axes>"
      ]
     },
     "metadata": {},
     "output_type": "display_data"
    }
   ],
   "source": [
    "# Get the count of each unique status in the DataFrame\n",
    "df_status = df['status'].value_counts()\n",
    "\n",
    "# Extract status labels and their corresponding counts\n",
    "status = df_status['status']\n",
    "status_values = df_status['count']\n",
    "\n",
    "# Plot the distribution\n",
    "plt.bar(status, status_values)\n",
    "plt.xlabel('Status')\n",
    "plt.ylabel('Counts')\n",
    "plt.title('Status V/S Counts')\n",
    "plt.show()"
   ]
  },
  {
   "cell_type": "code",
   "execution_count": null,
   "metadata": {
    "id": "-8Pl42Nx4E_y"
   },
   "outputs": [],
   "source": [
    "# Transform the dataset to map statuses to numeric labels\n",
    "df = (\n",
    "    df.select([\"attempt\", \"status\"])\n",
    "      .with_columns(\n",
    "          pl.when(pl.col(\"status\") == \"Wrong Answer\").then(0)\n",
    "            .when(pl.col(\"status\") == \"Accepted\").then(1)\n",
    "            .when(pl.col(\"status\") == \"Runtime Error\").then(2)\n",
    "            .otherwise(None)\n",
    "            .alias(\"label\")\n",
    "      )\n",
    "      .rename({\"attempt\": \"code\"})\n",
    ")\n"
   ]
  },
  {
   "cell_type": "code",
   "execution_count": null,
   "metadata": {
    "id": "WYSPyscT8v17"
   },
   "outputs": [],
   "source": [
    "# Count the number of instances for each label\n",
    "label_counts = Counter(df['label'])\n",
    "\n",
    "total = sum(label_counts.values())\n",
    "num_classes = len(label_counts)\n",
    "\n",
    "#compute weights to handle class imbalance\n",
    "weights = [total / (num_classes * label_counts[i]) for i in range(num_classes)]\n",
    "\n",
    "# Convert the list of weights to a PyTorch tensor\n",
    "class_weights = torch.tensor(weights, dtype=torch.float)\n"
   ]
  },
  {
   "cell_type": "code",
   "execution_count": null,
   "metadata": {
    "id": "ahNxcijA5qzJ"
   },
   "outputs": [],
   "source": [
    "# Convert Polars DataFrame to pandas for compatibility with Hugging Face datasets\n",
    "data_f = df.to_pandas()\n",
    "\n",
    "# Split data into train (80%) and temp (20%)\n",
    "train_df, temp_df = train_test_split(\n",
    "    data_f, test_size=0.2, random_state=42, stratify=df[\"label\"]\n",
    ")\n",
    "\n",
    "# split the 20% temp into validation (10%) and test (10%) set\n",
    "valid_df, test_df = train_test_split(\n",
    "    temp_df, test_size=0.5, random_state=42, stratify=temp_df[\"label\"]\n",
    ")\n",
    "\n",
    "# function to convert a pandas DataFrame to a Hugging Face Dataset\n",
    "def to_ds(p):\n",
    "    return Dataset.from_pandas(p, preserve_index=False)"
   ]
  },
  {
   "cell_type": "code",
   "execution_count": null,
   "metadata": {
    "id": "3acKt9lh7tvB"
   },
   "outputs": [],
   "source": [
    "# Convert pandas DataFrames to Hugging Face DatasetDict format for model training\n",
    "dataset = DatasetDict(\n",
    "    train      = to_ds(train_df),\n",
    "    validation = to_ds(valid_df),\n",
    "    test       = to_ds(test_df),\n",
    ")"
   ]
  },
  {
   "cell_type": "code",
   "execution_count": null,
   "metadata": {
    "colab": {
     "base_uri": "https://localhost:8080/",
     "height": 301,
     "referenced_widgets": [
      "af262569b9344053afe731f7d00a8116",
      "59b35d6e623a431d80d261a2f2e9ea29",
      "8277066fc08443ab8f713f7e873f9f0f",
      "3218738c7e184a1c8aa227033c6d6c4a",
      "84b3a1686fae4fe382454fabde92b7a3",
      "9e467e6374da4d9bb7374bfa31212998",
      "beaef93d50ce49c38b389986a5513c08",
      "cb43bbd9ddd24a9e9ea731bfee987af9",
      "4dcb920a87934d209326fca8ed172c0d",
      "a0fdc432df1e4d1184da09f5a8408640",
      "80caecedbf1d4443aa71b68542bd29d0",
      "a691b1816b60442ea7cfca6d06cd8983",
      "ca641450e52043c980323edd819415c5",
      "f4570dd94d004ac68d2c3f45255ada2c",
      "198ee36163cd4f68b33f97ab540efd42",
      "58eadb1d2c454b1f83d374a6c80a55c3",
      "40e027a260e14fc7ac96d67a4471db82",
      "a65764d03b8f437dad3f8278d8a637b9",
      "feb0021e38a7429bb6af735cbcebb98e",
      "1d78af10300942e7a2999614114cf379",
      "40c6cff9223a44c5a9fab2c96a7fd75e",
      "33b24273700e484ba3ef9ebbbe18852e",
      "1e03eeb7489649e5b33fccda6bac9304",
      "390ae90d84e441e0b5cacf356a617102",
      "3af6b406489f4c56bf4a794cb1ff3514",
      "a4af3b22ecaa4a1bb1de5d862c5060e6",
      "bd522d9fbf6348d9a18ebe93d1944d8d",
      "c8d1ac47fd264c25bc11a781f48ad3b4",
      "5d0fbc7c87f247d2a98ccd8a0d83346b",
      "ccc416e78e4a46829b3792e6ceacf79a",
      "c2b7852e52cf4a3c97de79fbaa1fb4b6",
      "7f7bddc5310542d7822d8fcca1aa04e7",
      "c02ca07119aa4e649100f20477cad75f",
      "35f5043b3b0a4752ae29a16e9cf5232a",
      "ef022d66306f4c52890248a854ba4a63",
      "6ecde552e68541758cdb698d910785ef",
      "7ad685d18dad436cb828ad1e157e01b1",
      "d9c1a9b2aff245a8b3d43cdef66ee6a9",
      "d26d40761149481fbb2377feef6f77be",
      "3d9a1288617042c8a25e32ce621911fe",
      "d0acb3531e9c418d8a9999d8c3d5684c",
      "1ab0f5940dd54f6d8e7c0e8df5099700",
      "0d2607bcc4944916bc7b82efaf662674",
      "bbfa7f48595b4c8ebb53c5e7fbcd7bc4",
      "23345a447b7a44868945251fc2b80dc7",
      "f1bb120e000e4976b8b1452b7f48c620",
      "165190579f994a0f8b0ec6da4d662b6f",
      "a1584df504a34120ba78da29f89cd4ce",
      "31959cf1b3a4451c96faef16b7ae2ff2",
      "4995ba79ea70453c9e1e88c10bdb90d7",
      "80ed56ab2ebb45d39864e4716d02811c",
      "7dd356940b4249e5ad55b4792d12030f",
      "baa3c203038341388761641d7a0b7028",
      "c5019b4772944b30b750be42fe99a576",
      "cab76e9a0d1f41059d45d9907781ddc9"
     ]
    },
    "id": "esMrHPHL7yHQ",
    "outputId": "ea7a0d00-8143-4e4f-87a6-f6059c833b32"
   },
   "outputs": [
    {
     "name": "stderr",
     "output_type": "stream",
     "text": [
      "/usr/local/lib/python3.11/dist-packages/huggingface_hub/utils/_auth.py:94: UserWarning: \n",
      "The secret `HF_TOKEN` does not exist in your Colab secrets.\n",
      "To authenticate with the Hugging Face Hub, create a token in your settings tab (https://huggingface.co/settings/tokens), set it as secret in your Google Colab and restart your session.\n",
      "You will be able to reuse this secret in all of your notebooks.\n",
      "Please note that authentication is recommended but still optional to access public models or datasets.\n",
      "  warnings.warn(\n"
     ]
    },
    {
     "data": {
      "application/vnd.jupyter.widget-view+json": {
       "model_id": "af262569b9344053afe731f7d00a8116",
       "version_major": 2,
       "version_minor": 0
      },
      "text/plain": [
       "tokenizer_config.json:   0%|          | 0.00/25.0 [00:00<?, ?B/s]"
      ]
     },
     "metadata": {},
     "output_type": "display_data"
    },
    {
     "data": {
      "application/vnd.jupyter.widget-view+json": {
       "model_id": "a691b1816b60442ea7cfca6d06cd8983",
       "version_major": 2,
       "version_minor": 0
      },
      "text/plain": [
       "config.json:   0%|          | 0.00/498 [00:00<?, ?B/s]"
      ]
     },
     "metadata": {},
     "output_type": "display_data"
    },
    {
     "data": {
      "application/vnd.jupyter.widget-view+json": {
       "model_id": "1e03eeb7489649e5b33fccda6bac9304",
       "version_major": 2,
       "version_minor": 0
      },
      "text/plain": [
       "vocab.json: 0.00B [00:00, ?B/s]"
      ]
     },
     "metadata": {},
     "output_type": "display_data"
    },
    {
     "data": {
      "application/vnd.jupyter.widget-view+json": {
       "model_id": "35f5043b3b0a4752ae29a16e9cf5232a",
       "version_major": 2,
       "version_minor": 0
      },
      "text/plain": [
       "merges.txt: 0.00B [00:00, ?B/s]"
      ]
     },
     "metadata": {},
     "output_type": "display_data"
    },
    {
     "data": {
      "application/vnd.jupyter.widget-view+json": {
       "model_id": "23345a447b7a44868945251fc2b80dc7",
       "version_major": 2,
       "version_minor": 0
      },
      "text/plain": [
       "special_tokens_map.json:   0%|          | 0.00/150 [00:00<?, ?B/s]"
      ]
     },
     "metadata": {},
     "output_type": "display_data"
    }
   ],
   "source": [
    "# Specify the model checkpoint for CodeBERT\n",
    "model_ckpt = \"microsoft/codebert-base\"\n",
    "\n",
    "# Load the tokenizer\n",
    "tokenizer  = AutoTokenizer.from_pretrained(model_ckpt)"
   ]
  },
  {
   "cell_type": "code",
   "execution_count": null,
   "metadata": {
    "colab": {
     "base_uri": "https://localhost:8080/",
     "height": 356,
     "referenced_widgets": [
      "992c945e88594dc99f541b57fb5d587c",
      "bdd9427bb907482d907da8e6720bdbea",
      "436575a547274dd7b8d83f879dee04ce",
      "09d480fb96334948983fd17dddc11d67",
      "09bc6cff5f6343bbadd6e233bdda84a8",
      "0a14110c9fba42318bb90740b5f7aca3",
      "84f9bc85a93a4c99b737783c19662c20",
      "918cda5e4fac48e79d5c68d1e195286a",
      "be66e22b1c3f4157a59f47a8e7418489",
      "d0cd440ff21a4546b7b40e213926fe27",
      "bc0762dc2b064d0eb1919acf1991988f",
      "804ee93a1c22407faf7d1b83b2a6a805",
      "8fe21a24c4b24e5783ff87faa1088ccf",
      "d4b5b6104afe493ebb3c3529fcc1d73c",
      "d5327805156a42e1adbea07ff69aabc2",
      "556f6b6c02334e20b8df5be312d5c425",
      "62a8922ce2634540b7fb36bed72e10e3",
      "1910e500c845444691577537317a5651",
      "388bf0a55f4848459651c8597dce1904",
      "2218ab48b3c249f8ba46f1b2c30fe59e",
      "fdb6b47ae0c740bc81fb80087b2eac8f",
      "da5fe6d9854e4c07bc7fb3651e993e76",
      "cc2031d3fa5a4579b0ad4dc12cec6dcd",
      "70180b583a70472096ef5105fb64e9ed",
      "2cfda96ba460463586668d38ea986484",
      "b5760a0d093d4bcbb1f92b6a111b4da2",
      "3e5b5ce299874bc1b9f582423bdbb9b4",
      "e7e80c6c4a434a5db0f070478fa7f87d",
      "ddb573c5bf9a4fa39d3f6a0e8ee9692a",
      "bbf359eecd9e496396ecc3b7ba28f050",
      "9508a78fd1dd4800a21b6ea67fc55346",
      "0bbccca1ee56426195ac588098343865",
      "3b9c1878e3fc4f79a6ebcf66472f95fd"
     ]
    },
    "id": "n1WGlfxh5uTQ",
    "outputId": "c2db9662-c676-4797-8573-02c2cdeab9e5"
   },
   "outputs": [
    {
     "data": {
      "application/vnd.jupyter.widget-view+json": {
       "model_id": "992c945e88594dc99f541b57fb5d587c",
       "version_major": 2,
       "version_minor": 0
      },
      "text/plain": [
       "Map:   0%|          | 0/13232 [00:00<?, ? examples/s]"
      ]
     },
     "metadata": {},
     "output_type": "display_data"
    },
    {
     "data": {
      "application/vnd.jupyter.widget-view+json": {
       "model_id": "804ee93a1c22407faf7d1b83b2a6a805",
       "version_major": 2,
       "version_minor": 0
      },
      "text/plain": [
       "Map:   0%|          | 0/1654 [00:00<?, ? examples/s]"
      ]
     },
     "metadata": {},
     "output_type": "display_data"
    },
    {
     "data": {
      "application/vnd.jupyter.widget-view+json": {
       "model_id": "cc2031d3fa5a4579b0ad4dc12cec6dcd",
       "version_major": 2,
       "version_minor": 0
      },
      "text/plain": [
       "Map:   0%|          | 0/1655 [00:00<?, ? examples/s]"
      ]
     },
     "metadata": {},
     "output_type": "display_data"
    },
    {
     "data": {
      "text/plain": [
       "DatasetDict({\n",
       "    train: Dataset({\n",
       "        features: ['status', 'label', 'input_ids', 'attention_mask'],\n",
       "        num_rows: 13232\n",
       "    })\n",
       "    validation: Dataset({\n",
       "        features: ['status', 'label', 'input_ids', 'attention_mask'],\n",
       "        num_rows: 1654\n",
       "    })\n",
       "    test: Dataset({\n",
       "        features: ['status', 'label', 'input_ids', 'attention_mask'],\n",
       "        num_rows: 1655\n",
       "    })\n",
       "})"
      ]
     },
     "execution_count": 14,
     "metadata": {},
     "output_type": "execute_result"
    }
   ],
   "source": [
    "# Define a function to tokenize\n",
    "def tokenize(batch):\n",
    "    return tokenizer(batch[\"code\"],\n",
    "                     padding=\"max_length\",\n",
    "                     truncation=True,\n",
    "                     max_length=512)\n",
    "# Apply tokenization to the entire dataset\n",
    "tokenised = dataset.map(tokenize, batched=True, remove_columns=[\"code\"])\n",
    "\n",
    "# Set the dataset format to PyTorch tensors\n",
    "tokenised.with_format(\"torch\")"
   ]
  },
  {
   "cell_type": "code",
   "execution_count": null,
   "metadata": {
    "colab": {
     "base_uri": "https://localhost:8080/",
     "height": 104,
     "referenced_widgets": [
      "5f8c78f4c18f4a5caa3ee009f0953f25",
      "508e649895b1452eb96569aaeac4cdd2",
      "8ea24ecb7b92482cbdb250f47debf8f1",
      "219227e0c0ba4f63b454773d8949a2a8",
      "d9ffcfa2d5c647a2b10caede09e8d610",
      "fd310a08319b43e59105fc404d2532bc",
      "d71ca58b60d8439aa6b43be40a29753f",
      "a2326d0015404c499923467add0f4ce6",
      "2bd1a3060be74eda99c0fba8985da1cb",
      "fa9c5599c75947668af8abcb2de79add",
      "3b5ed5620198487d994d9cd706535eb1"
     ]
    },
    "id": "JeXotG5I5038",
    "outputId": "c869478f-3a50-4c9e-9fc4-9802c0d8a02c"
   },
   "outputs": [
    {
     "data": {
      "application/vnd.jupyter.widget-view+json": {
       "model_id": "5f8c78f4c18f4a5caa3ee009f0953f25",
       "version_major": 2,
       "version_minor": 0
      },
      "text/plain": [
       "pytorch_model.bin:   0%|          | 0.00/499M [00:00<?, ?B/s]"
      ]
     },
     "metadata": {},
     "output_type": "display_data"
    },
    {
     "name": "stderr",
     "output_type": "stream",
     "text": [
      "Some weights of RobertaForSequenceClassification were not initialized from the model checkpoint at microsoft/codebert-base and are newly initialized: ['classifier.dense.bias', 'classifier.dense.weight', 'classifier.out_proj.bias', 'classifier.out_proj.weight']\n",
      "You should probably TRAIN this model on a down-stream task to be able to use it for predictions and inference.\n"
     ]
    }
   ],
   "source": [
    "# Load a pretrained CodeBERT model\n",
    "model = AutoModelForSequenceClassification.from_pretrained(\n",
    "    model_ckpt,\n",
    "    num_labels=3,\n",
    "    id2label={0: \"wrong_answer\",\n",
    "              1: \"accepted\",\n",
    "              2: \"runtime_error\"},\n",
    "    label2id={\"wrong_answer\": 0,\n",
    "              \"accepted\": 1,\n",
    "              \"runtime_error\": 2},\n",
    ")\n"
   ]
  },
  {
   "cell_type": "code",
   "execution_count": null,
   "metadata": {
    "id": "8rF2x3ME555M"
   },
   "outputs": [],
   "source": [
    "# Function to compute evaluation metrics for model predictions\n",
    "def compute_metrics(eval_pred):\n",
    "    logits, labels = eval_pred\n",
    "    predictions = logits.argmax(axis=-1)\n",
    "\n",
    "    # Calculate precision, recall, and F1-score\n",
    "    precision, recall, f1, _ = precision_recall_fscore_support(\n",
    "        labels, predictions, average='macro'\n",
    "    )\n",
    "\n",
    "    #calculate accuracy\n",
    "    acc = accuracy_score(labels, predictions)\n",
    "\n",
    "    # Return all metrics\n",
    "    return {\n",
    "        'accuracy': acc,\n",
    "        'precision': precision,\n",
    "        'recall': recall,\n",
    "        'f1': f1\n",
    "    }\n"
   ]
  },
  {
   "cell_type": "code",
   "execution_count": null,
   "metadata": {
    "id": "-NXO49Ft59kA"
   },
   "outputs": [],
   "source": [
    "training_args = TrainingArguments(\n",
    "    output_dir=\"./codenet_no_runtime_model\",\n",
    "    eval_strategy=\"epoch\",\n",
    "    save_strategy=\"epoch\",\n",
    "    learning_rate=5e-6,                          # Set a low learning rate for fine-tuning\n",
    "    per_device_train_batch_size=16,             # Batch size per GPU/CPU for training\n",
    "    per_device_eval_batch_size=16,              # Batch size for evaluation\n",
    "    num_train_epochs=10,\n",
    "    weight_decay=0.01,                          # Apply weight decay for regularization\n",
    "    load_best_model_at_end=True,                # Keep the best model based on evaluation metric\n",
    "    metric_for_best_model=\"accuracy\",           # Choose best model based on accuracy\n",
    "    logging_dir=\"./logs\",\n",
    "    logging_steps=100,                          # Log every 100 steps\n",
    "    report_to=\"tensorboard\",                    # Use TensorBoard for logging\n",
    "    fp16=torch.cuda.is_available(),             # Enable mixed precision training if GPU supports it\n",
    "    dataloader_num_workers=4,                   # Use 4 workers for data loading\n",
    ")\n"
   ]
  },
  {
   "cell_type": "code",
   "execution_count": null,
   "metadata": {
    "id": "Sa9FaOnQ9Hoq"
   },
   "outputs": [],
   "source": [
    "# Custom Trainer to support class weights in the loss function\n",
    "class WeightedTrainer(Trainer):\n",
    "    def __init__(self, *args, class_weights=None, **kwargs):\n",
    "        super().__init__(*args, **kwargs)\n",
    "        # Move class weights to the correct device (GPU or CPU)\n",
    "        self.class_weights = class_weights.to(self.args.device) if class_weights is not None else None\n",
    "\n",
    "    # Override compute_loss to apply class-weighted cross entropy\n",
    "    def compute_loss(self, model, inputs, return_outputs=False, **kwargs):\n",
    "        labels = inputs.get(\"labels\")\n",
    "        outputs = model(**inputs)\n",
    "        logits = outputs.get(\"logits\")\n",
    "\n",
    "        # Use weighted loss if class weights are provided\n",
    "        loss_fct = nn.CrossEntropyLoss(weight=self.class_weights) if self.class_weights is not None else nn.CrossEntropyLoss()\n",
    "        loss = loss_fct(logits, labels)\n",
    "\n",
    "        return (loss, outputs) if return_outputs else loss\n"
   ]
  },
  {
   "cell_type": "code",
   "execution_count": null,
   "metadata": {
    "colab": {
     "base_uri": "https://localhost:8080/",
     "height": 104,
     "referenced_widgets": [
      "313d9dd3936145de9968b04a40e6dc97",
      "b22afb262271451e85d7322e402d488a",
      "228f16cc63d8460694b8eeefc4c573a1",
      "5e3a128da5bd40088f0823d3d13d740d",
      "95c6813b142c4d4fbe3711d3fd6d283f",
      "d90a51671445487992a3593b322d2dc2",
      "4a7e63d2624b4f4688dc8a0f3cdb61b2",
      "46a897e5e33e456081dc206398fff5f2",
      "dba0a0ef2b3d47848aa9aab64ba684f4",
      "557bad8caf38483ca3f97e9938b60028",
      "4b6278a3970b4c10ab30ff77c21e74bb"
     ]
    },
    "id": "uU3N5xKX6Dvz",
    "outputId": "59e78d95-eb42-4de7-8925-8fb28de96814"
   },
   "outputs": [
    {
     "name": "stderr",
     "output_type": "stream",
     "text": [
      "/tmp/ipython-input-18-1872614877.py:6: FutureWarning: `tokenizer` is deprecated and will be removed in version 5.0.0 for `WeightedTrainer.__init__`. Use `processing_class` instead.\n",
      "  super().__init__(*args, **kwargs)\n"
     ]
    },
    {
     "data": {
      "application/vnd.jupyter.widget-view+json": {
       "model_id": "313d9dd3936145de9968b04a40e6dc97",
       "version_major": 2,
       "version_minor": 0
      },
      "text/plain": [
       "model.safetensors:   0%|          | 0.00/499M [00:00<?, ?B/s]"
      ]
     },
     "metadata": {},
     "output_type": "display_data"
    }
   ],
   "source": [
    "# assign the custom trainer with model, data, metrics, and class weights\n",
    "trainer = WeightedTrainer(\n",
    "    model=model,\n",
    "    args=training_args,\n",
    "    train_dataset=tokenised[\"train\"],\n",
    "    eval_dataset=tokenised[\"validation\"],\n",
    "    tokenizer=tokenizer,\n",
    "    compute_metrics=compute_metrics,\n",
    "    class_weights=class_weights\n",
    ")"
   ]
  },
  {
   "cell_type": "code",
   "execution_count": null,
   "metadata": {
    "colab": {
     "base_uri": "https://localhost:8080/",
     "height": 441
    },
    "id": "edOu_yMr6HKw",
    "outputId": "c9733a9d-bb85-491e-ba94-0be02ac52248"
   },
   "outputs": [
    {
     "data": {
      "text/html": [
       "\n",
       "    <div>\n",
       "      \n",
       "      <progress value='8270' max='8270' style='width:300px; height:20px; vertical-align: middle;'></progress>\n",
       "      [8270/8270 35:32, Epoch 10/10]\n",
       "    </div>\n",
       "    <table border=\"1\" class=\"dataframe\">\n",
       "  <thead>\n",
       " <tr style=\"text-align: left;\">\n",
       "      <th>Epoch</th>\n",
       "      <th>Training Loss</th>\n",
       "      <th>Validation Loss</th>\n",
       "      <th>Accuracy</th>\n",
       "      <th>Precision</th>\n",
       "      <th>Recall</th>\n",
       "      <th>F1</th>\n",
       "    </tr>\n",
       "  </thead>\n",
       "  <tbody>\n",
       "    <tr>\n",
       "      <td>1</td>\n",
       "      <td>0.805600</td>\n",
       "      <td>0.776610</td>\n",
       "      <td>0.657799</td>\n",
       "      <td>0.628712</td>\n",
       "      <td>0.638707</td>\n",
       "      <td>0.611175</td>\n",
       "    </tr>\n",
       "    <tr>\n",
       "      <td>2</td>\n",
       "      <td>0.779100</td>\n",
       "      <td>0.780872</td>\n",
       "      <td>0.657799</td>\n",
       "      <td>0.632396</td>\n",
       "      <td>0.647067</td>\n",
       "      <td>0.622765</td>\n",
       "    </tr>\n",
       "    <tr>\n",
       "      <td>3</td>\n",
       "      <td>0.714700</td>\n",
       "      <td>0.752941</td>\n",
       "      <td>0.680169</td>\n",
       "      <td>0.646277</td>\n",
       "      <td>0.664578</td>\n",
       "      <td>0.639889</td>\n",
       "    </tr>\n",
       "    <tr>\n",
       "      <td>4</td>\n",
       "      <td>0.683000</td>\n",
       "      <td>0.763732</td>\n",
       "      <td>0.668682</td>\n",
       "      <td>0.644793</td>\n",
       "      <td>0.662966</td>\n",
       "      <td>0.635914</td>\n",
       "    </tr>\n",
       "    <tr>\n",
       "      <td>5</td>\n",
       "      <td>0.667100</td>\n",
       "      <td>0.741205</td>\n",
       "      <td>0.680774</td>\n",
       "      <td>0.649942</td>\n",
       "      <td>0.667603</td>\n",
       "      <td>0.644546</td>\n",
       "    </tr>\n",
       "    <tr>\n",
       "      <td>6</td>\n",
       "      <td>0.678300</td>\n",
       "      <td>0.752482</td>\n",
       "      <td>0.688029</td>\n",
       "      <td>0.655988</td>\n",
       "      <td>0.676084</td>\n",
       "      <td>0.648888</td>\n",
       "    </tr>\n",
       "    <tr>\n",
       "      <td>7</td>\n",
       "      <td>0.657600</td>\n",
       "      <td>0.744693</td>\n",
       "      <td>0.694680</td>\n",
       "      <td>0.660082</td>\n",
       "      <td>0.681313</td>\n",
       "      <td>0.657820</td>\n",
       "    </tr>\n",
       "    <tr>\n",
       "      <td>8</td>\n",
       "      <td>0.647700</td>\n",
       "      <td>0.760719</td>\n",
       "      <td>0.687424</td>\n",
       "      <td>0.653170</td>\n",
       "      <td>0.670249</td>\n",
       "      <td>0.645800</td>\n",
       "    </tr>\n",
       "    <tr>\n",
       "      <td>9</td>\n",
       "      <td>0.603400</td>\n",
       "      <td>0.775307</td>\n",
       "      <td>0.687424</td>\n",
       "      <td>0.655483</td>\n",
       "      <td>0.674679</td>\n",
       "      <td>0.647862</td>\n",
       "    </tr>\n",
       "    <tr>\n",
       "      <td>10</td>\n",
       "      <td>0.632200</td>\n",
       "      <td>0.779142</td>\n",
       "      <td>0.683797</td>\n",
       "      <td>0.651795</td>\n",
       "      <td>0.671491</td>\n",
       "      <td>0.645881</td>\n",
       "    </tr>\n",
       "  </tbody>\n",
       "</table><p>"
      ],
      "text/plain": [
       "<IPython.core.display.HTML object>"
      ]
     },
     "metadata": {},
     "output_type": "display_data"
    },
    {
     "data": {
      "text/plain": [
       "TrainOutput(global_step=8270, training_loss=0.7043006043624417, metrics={'train_runtime': 2135.1407, 'train_samples_per_second': 61.972, 'train_steps_per_second': 3.873, 'total_flos': 3.481516743376896e+16, 'train_loss': 0.7043006043624417, 'epoch': 10.0})"
      ]
     },
     "execution_count": 20,
     "metadata": {},
     "output_type": "execute_result"
    }
   ],
   "source": [
    "#model training\n",
    "trainer.train()"
   ]
  },
  {
   "cell_type": "code",
   "execution_count": null,
   "metadata": {
    "colab": {
     "base_uri": "https://localhost:8080/",
     "height": 109
    },
    "id": "Q9vEam7w6MQJ",
    "outputId": "91f3da5a-12ad-4927-f480-ca11349d24a3"
   },
   "outputs": [
    {
     "name": "stdout",
     "output_type": "stream",
     "text": [
      "\n",
      "Best checkpoint: ./codenet_no_runtime_model/checkpoint-5789\n"
     ]
    },
    {
     "data": {
      "text/html": [
       "\n",
       "    <div>\n",
       "      \n",
       "      <progress value='104' max='104' style='width:300px; height:20px; vertical-align: middle;'></progress>\n",
       "      [104/104 00:05]\n",
       "    </div>\n",
       "    "
      ],
      "text/plain": [
       "<IPython.core.display.HTML object>"
      ]
     },
     "metadata": {},
     "output_type": "display_data"
    },
    {
     "name": "stdout",
     "output_type": "stream",
     "text": [
      "Test-set metrics: {'eval_loss': 0.7503844499588013, 'eval_accuracy': 0.6821752265861027, 'eval_precision': 0.6507882130173898, 'eval_recall': 0.6691678093687409, 'eval_f1': 0.6448560915510234, 'eval_runtime': 5.8695, 'eval_samples_per_second': 281.965, 'eval_steps_per_second': 17.719, 'epoch': 10.0}\n"
     ]
    }
   ],
   "source": [
    "print(\"\\nBest checkpoint:\", trainer.state.best_model_checkpoint)\n",
    "\n",
    "# Evaluate the best model on the test dataset\n",
    "test_metrics = trainer.evaluate(tokenised[\"test\"])\n",
    "print(\"Test-set metrics:\", test_metrics)"
   ]
  },
  {
   "cell_type": "code",
   "execution_count": null,
   "metadata": {
    "colab": {
     "base_uri": "https://localhost:8080/",
     "height": 472
    },
    "id": "Ea5FyzNSi0X7",
    "outputId": "1c54b196-2849-43cd-c8e7-923c6d85ec66"
   },
   "outputs": [
    {
     "data": {
      "text/html": [],
      "text/plain": [
       "<IPython.core.display.HTML object>"
      ]
     },
     "metadata": {},
     "output_type": "display_data"
    },
    {
     "data": {
      "image/png": "[encoded data removed]",
      "text/plain": [
       "<Figure size 640x480 with 2 Axes>"
      ]
     },
     "metadata": {},
     "output_type": "display_data"
    }
   ],
   "source": [
    "# Get predictions\n",
    "codebert_preds_output = trainer.predict(tokenised[\"test\"])\n",
    "codebert_preds = np.argmax(codebert_preds_output.predictions, axis=1)\n",
    "codebert_labels = codebert_preds_output.label_ids\n",
    "\n",
    "# calculate confusion matrix\n",
    "cm_codebert = confusion_matrix(codebert_labels, codebert_preds)\n",
    "\n",
    "# Plot\n",
    "disp = ConfusionMatrixDisplay(confusion_matrix=cm_codebert,\n",
    "                              display_labels=[\"Wrong Answer\", \"Accepted\", \"Runtime Error\"])\n",
    "disp.plot(cmap=plt.cm.Blues, values_format='d')\n",
    "plt.title(\"CodeBERT - Confusion Matrix\")\n",
    "plt.show()\n"
   ]
  },
  {
   "cell_type": "code",
   "execution_count": null,
   "metadata": {
    "colab": {
     "base_uri": "https://localhost:8080/"
    },
    "id": "tEIDLC9Y_jaw",
    "outputId": "7b7b5d9b-4c60-4abd-ef4f-4b41b8e902aa"
   },
   "outputs": [
    {
     "data": {
      "text/plain": [
       "RobertaForSequenceClassification(\n",
       "  (roberta): RobertaModel(\n",
       "    (embeddings): RobertaEmbeddings(\n",
       "      (word_embeddings): Embedding(50265, 768, padding_idx=1)\n",
       "      (position_embeddings): Embedding(514, 768, padding_idx=1)\n",
       "      (token_type_embeddings): Embedding(1, 768)\n",
       "      (LayerNorm): LayerNorm((768,), eps=1e-05, elementwise_affine=True)\n",
       "      (dropout): Dropout(p=0.1, inplace=False)\n",
       "    )\n",
       "    (encoder): RobertaEncoder(\n",
       "      (layer): ModuleList(\n",
       "        (0-11): 12 x RobertaLayer(\n",
       "          (attention): RobertaAttention(\n",
       "            (self): RobertaSdpaSelfAttention(\n",
       "              (query): Linear(in_features=768, out_features=768, bias=True)\n",
       "              (key): Linear(in_features=768, out_features=768, bias=True)\n",
       "              (value): Linear(in_features=768, out_features=768, bias=True)\n",
       "              (dropout): Dropout(p=0.1, inplace=False)\n",
       "            )\n",
       "            (output): RobertaSelfOutput(\n",
       "              (dense): Linear(in_features=768, out_features=768, bias=True)\n",
       "              (LayerNorm): LayerNorm((768,), eps=1e-05, elementwise_affine=True)\n",
       "              (dropout): Dropout(p=0.1, inplace=False)\n",
       "            )\n",
       "          )\n",
       "          (intermediate): RobertaIntermediate(\n",
       "            (dense): Linear(in_features=768, out_features=3072, bias=True)\n",
       "            (intermediate_act_fn): GELUActivation()\n",
       "          )\n",
       "          (output): RobertaOutput(\n",
       "            (dense): Linear(in_features=3072, out_features=768, bias=True)\n",
       "            (LayerNorm): LayerNorm((768,), eps=1e-05, elementwise_affine=True)\n",
       "            (dropout): Dropout(p=0.1, inplace=False)\n",
       "          )\n",
       "        )\n",
       "      )\n",
       "    )\n",
       "  )\n",
       "  (classifier): RobertaClassificationHead(\n",
       "    (dense): Linear(in_features=768, out_features=768, bias=True)\n",
       "    (dropout): Dropout(p=0.1, inplace=False)\n",
       "    (out_proj): Linear(in_features=768, out_features=3, bias=True)\n",
       "  )\n",
       ")"
      ]
     },
     "execution_count": 23,
     "metadata": {},
     "output_type": "execute_result"
    }
   ],
   "source": [
    "#reload best model for test\n",
    "best_ckpt = Path(trainer.state.best_model_checkpoint)\n",
    "best_model = AutoModelForSequenceClassification.from_pretrained(best_ckpt)\n",
    "best_model.to(trainer.args.device).eval()"
   ]
  },
  {
   "cell_type": "code",
   "execution_count": null,
   "metadata": {
    "id": "-tgqDaS5_7d7"
   },
   "outputs": [],
   "source": [
    "#sample 5 to display\n",
    "sample_df = test_df.sample(5, random_state=0).reset_index(drop=True)\n",
    "texts = list(sample_df[\"code\"])\n"
   ]
  },
  {
   "cell_type": "code",
   "execution_count": null,
   "metadata": {
    "id": "A57oYmPC_9s3"
   },
   "outputs": [],
   "source": [
    "# Tokenize the selected code snippets\n",
    "tokenized = tokenizer(\n",
    "    texts,\n",
    "    padding=True,\n",
    "    truncation=True,\n",
    "    max_length=512,\n",
    "    return_tensors=\"pt\"\n",
    ")\n",
    "# Move each tensor to the model device\n",
    "tokenized = {k: v.to(trainer.args.device) for k, v in tokenized.items()}"
   ]
  },
  {
   "cell_type": "code",
   "execution_count": null,
   "metadata": {
    "id": "YYKrha76AkV1"
   },
   "outputs": [],
   "source": [
    "with torch.no_grad():\n",
    "    logits = best_model(**tokenized).logits\n",
    "\n",
    "probs = F.softmax(logits, dim=-1).cpu().numpy()\n",
    "preds = probs.argmax(axis=-1)"
   ]
  },
  {
   "cell_type": "code",
   "execution_count": null,
   "metadata": {
    "colab": {
     "base_uri": "https://localhost:8080/"
    },
    "id": "1bep_nDQAVPo",
    "outputId": "507a6266-57a1-4b1f-c5f9-520f53f7e7d8"
   },
   "outputs": [
    {
     "name": "stdout",
     "output_type": "stream",
     "text": [
      "\n",
      "=== SAMPLE 1 ===\n",
      "s=input() cnt=0 for i in range(4): \tif s[i]=='+': \t\tcnt=cnt+1 \telse:       cnt=cnt-1        print(cnt)\n",
      "Class probabilities:\n",
      "  wrong_answer   : 0.004\n",
      "  accepted       : 0.004\n",
      "  runtime_error  : 0.992\n",
      "→ Prediction: runtime_error\n",
      "\n",
      "=== SAMPLE 2 ===\n",
      "X = int(input()) A = 0 for i in range(X):     if i != 0:         A = A + (X - 1) // i print(A) \n",
      "Class probabilities:\n",
      "  wrong_answer   : 0.749\n",
      "  accepted       : 0.192\n",
      "  runtime_error  : 0.060\n",
      "→ Prediction: wrong_answer\n",
      "\n",
      "=== SAMPLE 3 ===\n",
      "m1, d1 = map(int, input().strip().split(\" \")) m2, d2 = map(int, input().strip().split(\" \")) print(\"1\" if m1 != m2 else \"0\") \n",
      "Class probabilities:\n",
      "  wrong_answer   : 0.184\n",
      "  accepted       : 0.787\n",
      "  runtime_error  : 0.029\n",
      "→ Prediction: accepted\n",
      "\n",
      "=== SAMPLE 4 ===\n",
      "from math import log  k, a, b = [int(i) for i in input().split()]  N = []  for n in range(1, (k + 1) // a + 1):     x = n * a - 1     # y = int(log((b/a-1)*k+1, b/a))     # z = y     # m = 1 + x - a*y + b*z     # y = y+1     # z= z+1     # mm = 1 + x ...\n",
      "Class probabilities:\n",
      "  wrong_answer   : 0.601\n",
      "  accepted       : 0.288\n",
      "  runtime_error  : 0.111\n",
      "→ Prediction: wrong_answer\n",
      "\n",
      "=== SAMPLE 5 ===\n",
      "x,y = map(int,input().split()) z = int(str(x)+str(y)) for i in range(int(z**0.5)+1):   if i**2 = z:     print(\"Yes\")     exit() print(\"No\")\n",
      "Class probabilities:\n",
      "  wrong_answer   : 0.005\n",
      "  accepted       : 0.003\n",
      "  runtime_error  : 0.992\n",
      "→ Prediction: runtime_error\n"
     ]
    }
   ],
   "source": [
    "# Define label names\n",
    "label_names = {0: \"wrong_answer\", 1: \"accepted\", 2: \"runtime_error\"}\n",
    "\n",
    "# sampled code and its predicted probabilities\n",
    "for i, (code, prob_row, pred) in enumerate(zip(texts, probs, preds)):\n",
    "    print(f\"\\n=== SAMPLE {i+1} ===\")\n",
    "    # Display the first 250 characters of the code\n",
    "    print(code[:250].replace(\"\\n\", \" \") + (\" ...\" if len(code) > 250 else \"\"))\n",
    "\n",
    "    # Print class probabilities\n",
    "    print(\"Class probabilities:\")\n",
    "    for label_id, prob in enumerate(prob_row):\n",
    "        print(f\"  {label_names[label_id]:<15}: {prob:.3f}\")\n",
    "\n",
    "    # Print final prediction\n",
    "    print(f\"→ Prediction: {label_names[pred]}\")\n"
   ]
  },
  {
   "cell_type": "code",
   "execution_count": null,
   "metadata": {
    "id": "5JDrbb0jAX6O"
   },
   "outputs": [],
   "source": [
    "#base bert model for comparision\n",
    "model_ckpt = \"bert-base-uncased\""
   ]
  },
  {
   "cell_type": "code",
   "execution_count": null,
   "metadata": {
    "id": "TeXxO2E0JIr4"
   },
   "outputs": [],
   "source": [
    "# Polars → numeric 3-class labels\n",
    "df = (\n",
    "    df.select([\"code\", \"status\"])   # ✅ already renamed earlier\n",
    "      .with_columns(\n",
    "          pl.col(\"status\").replace({\n",
    "              \"Wrong Answer\": 0,\n",
    "              \"Accepted\": 1,\n",
    "              \"Runtime Error\": 2\n",
    "          }).cast(pl.Int8).alias(\"label\")\n",
    "      )\n",
    ")\n",
    "\n",
    "# Polars → pandas for sklearn splitting\n",
    "data_f = df.to_pandas()\n",
    "train_df, temp_df = train_test_split(\n",
    "    data_f, test_size=0.2, random_state=42, stratify=data_f[\"label\"]\n",
    ")\n",
    "valid_df, test_df = train_test_split(\n",
    "    temp_df, test_size=0.5, random_state=42, stratify=temp_df[\"label\"]\n",
    ")\n",
    "\n",
    "def to_ds(p):                      # pandas → HF Dataset\n",
    "    return Dataset.from_pandas(p, preserve_index=False)\n",
    "\n",
    "train_ds, valid_ds, test_ds = map(to_ds, (train_df, valid_df, test_df))\n"
   ]
  },
  {
   "cell_type": "code",
   "execution_count": null,
   "metadata": {
    "colab": {
     "base_uri": "https://localhost:8080/",
     "height": 241,
     "referenced_widgets": [
      "be0a619421304eb68c535c454a6db028",
      "52966cc119b34124984eda69a973362d",
      "272ae06413324445ada64e0926502a20",
      "24edf27c31b5469385c55c410e55a493",
      "dcef3fef69e54986b9aa2ff8417f67e0",
      "cc081eb6b4ad494484564c9e78a6ad9a",
      "ae66154aacee403e97218dd5b72f9f42",
      "a30c5e62ebc9477bac9e0792dcc7214b",
      "a91be7ffd66c4eb79399dd888f56d8d7",
      "9e3a5a8e5fc74d9f97a7c4785871b361",
      "8b8f8f912b694cf780477155dc500368",
      "f7383105e231423f8f98708347c9c520",
      "e41ec1128a324590952c087118c08cfc",
      "fa3a9a8d4765453d8bc475c7af07ba35",
      "8735aaf800f84347900404af5c9635ab",
      "1d46babc20a84ae2ad1c32d65a123186",
      "4ed8f60ba076483c9fc6a3919f810c47",
      "95ca2e5bbc6942ad9b2b0f41a15ab909",
      "125029fc5f6443a28fe79dea5c280d18",
      "8c39ce702729443a8bbdc4f1f00e0974",
      "984efe007cd24730b3a6e554cd4ae57a",
      "40610c34ccb4470a99f54bf5b6c72a56",
      "5794631aab4849db8994f7aac35c927e",
      "c2188ab1eca840ab9ebe422146d24f4d",
      "b1e1a7ab8c2b4035ba6dfa879fe313fe",
      "c8712c0aac83454592414c1438ba06a3",
      "623b683f975c4e5b8cccc741471ff395",
      "9c281be35dc94b7dbc4b5fb33c5fde4b",
      "6c44692d11164996877dc8d98be00233",
      "093704b285824585b10a0dc00abb80e6",
      "f8fdb376ac0d4f6ab04ee87a03b7b186",
      "c2b0725bb4f744688fa6e2d0d57310a4",
      "591eb31f3b83433bb2a298b9a377b160",
      "47652fde2a4848d190b715ba3315f8d2",
      "16c71df3cfff4bf3bf569a49a5a02c1c",
      "4b0ae45a29574a43a2ca58be69b1234b",
      "27b53adc362f4ba6a797e96b8c90363b",
      "adff08c48f594682a3e8e05a70f1fed3",
      "459d9c8ee7e643fd81c0947aa8933837",
      "6fed113d0da14e748c267f4ce2cb45a2",
      "872942a276cb4820a8957a9b221e4c42",
      "26229f50ed7f48398b3f7803309c9f7a",
      "dfa980471315466584bf0e237a75e155",
      "fbab6bb02a104851b2e5baf273de446d",
      "d2bcf5281c284928854281de0d987403",
      "a8916464f30049d3b95935d168cfd6f6",
      "5f810a77275b42a9b1d913ad31c7b2cd",
      "9c002378c0ca4887aea94ba2921cb20a",
      "39076b3d10e7442a9bb48bd46871513a",
      "617d046d80ac4cb389703901f2c230bc",
      "3e3d6dbc67fc416ebd76f85a6bef8818",
      "4e1cc94fac364d6d80404442772e91b5",
      "933bb24e3e9f411b93541793de308cfd",
      "f97858bca26942f4920bfd7884dacdd7",
      "66a922c265e241b593e021b6126f3032",
      "0ab8c1c22ec24df889e3ee386d3373c4",
      "b13f44f874de4849ad1b30d3fdd3d486",
      "ba8cc3dd4ed041bea70ba078f1af6375",
      "e9f96ce60ab64a92b31349bdf45a9f3f",
      "b48f3afb162a43dc9015b8e7dda922d8",
      "f9dec2fef7674565a54417b98b68e9d2",
      "01268c1d5fa74e4cb72f103c4e955bb2",
      "d04e149829c147b6953a9a84f74bc717",
      "de2e2d3c8bda42dabad67074b5002dca",
      "4da4bccf3f5a4099a52a58d432156715",
      "6f7eed23418b4ca3b5fc158705d31fa9",
      "6cb52381a5b642a798f641df3b5a4b74",
      "f2f93815a7fe453487eef5267e043761",
      "9d0726c8663049d0a88b31f2482b4e3d",
      "180eaa50d022428297a0d61a978ee219",
      "04d2308a0cfa4e61a3795a8c25140dfb",
      "79fe6d3a246c4675ab52c48322ebe6d7",
      "596738caac1b407fb8cf7cf24afdd346",
      "092753e000ca40399ec538fbdefa0053",
      "3565b10207bd405192992895b8028c9d",
      "df2d18554f344a12b634edfffa2d57b3",
      "de355611621d4383a42055c590c5299b"
     ]
    },
    "id": "8urmVzMpJLXW",
    "outputId": "51c32965-eb3b-4e49-8cd6-e21cea8e124b"
   },
   "outputs": [
    {
     "data": {
      "application/vnd.jupyter.widget-view+json": {
       "model_id": "be0a619421304eb68c535c454a6db028",
       "version_major": 2,
       "version_minor": 0
      },
      "text/plain": [
       "tokenizer_config.json:   0%|          | 0.00/48.0 [00:00<?, ?B/s]"
      ]
     },
     "metadata": {},
     "output_type": "display_data"
    },
    {
     "data": {
      "application/vnd.jupyter.widget-view+json": {
       "model_id": "f7383105e231423f8f98708347c9c520",
       "version_major": 2,
       "version_minor": 0
      },
      "text/plain": [
       "config.json:   0%|          | 0.00/570 [00:00<?, ?B/s]"
      ]
     },
     "metadata": {},
     "output_type": "display_data"
    },
    {
     "data": {
      "application/vnd.jupyter.widget-view+json": {
       "model_id": "5794631aab4849db8994f7aac35c927e",
       "version_major": 2,
       "version_minor": 0
      },
      "text/plain": [
       "vocab.txt:   0%|          | 0.00/232k [00:00<?, ?B/s]"
      ]
     },
     "metadata": {},
     "output_type": "display_data"
    },
    {
     "data": {
      "application/vnd.jupyter.widget-view+json": {
       "model_id": "47652fde2a4848d190b715ba3315f8d2",
       "version_major": 2,
       "version_minor": 0
      },
      "text/plain": [
       "tokenizer.json:   0%|          | 0.00/466k [00:00<?, ?B/s]"
      ]
     },
     "metadata": {},
     "output_type": "display_data"
    },
    {
     "data": {
      "application/vnd.jupyter.widget-view+json": {
       "model_id": "d2bcf5281c284928854281de0d987403",
       "version_major": 2,
       "version_minor": 0
      },
      "text/plain": [
       "Map:   0%|          | 0/13232 [00:00<?, ? examples/s]"
      ]
     },
     "metadata": {},
     "output_type": "display_data"
    },
    {
     "data": {
      "application/vnd.jupyter.widget-view+json": {
       "model_id": "0ab8c1c22ec24df889e3ee386d3373c4",
       "version_major": 2,
       "version_minor": 0
      },
      "text/plain": [
       "Map:   0%|          | 0/1654 [00:00<?, ? examples/s]"
      ]
     },
     "metadata": {},
     "output_type": "display_data"
    },
    {
     "data": {
      "application/vnd.jupyter.widget-view+json": {
       "model_id": "6cb52381a5b642a798f641df3b5a4b74",
       "version_major": 2,
       "version_minor": 0
      },
      "text/plain": [
       "Map:   0%|          | 0/1655 [00:00<?, ? examples/s]"
      ]
     },
     "metadata": {},
     "output_type": "display_data"
    }
   ],
   "source": [
    "tokenizer = AutoTokenizer.from_pretrained(model_ckpt)\n",
    "\n",
    "def tokenize(ex):\n",
    "    return tokenizer(ex[\"code\"],\n",
    "                     padding=\"max_length\",\n",
    "                     truncation=True,\n",
    "                     max_length=256)      # adjust if needed\n",
    "\n",
    "train_ds  = train_ds.map(tokenize, batched=True)\n",
    "valid_ds  = valid_ds.map(tokenize, batched=True)\n",
    "test_ds   = test_ds.map(tokenize, batched=True)\n",
    "\n",
    "cols_to_remove = [\"code\", \"status\"] if \"status\" in train_ds.column_names else [\"code\"]\n",
    "for ds in (train_ds, valid_ds, test_ds):\n",
    "    ds = ds.remove_columns(cols_to_remove)  # keeps label + encodings\n"
   ]
  },
  {
   "cell_type": "code",
   "execution_count": null,
   "metadata": {
    "colab": {
     "base_uri": "https://localhost:8080/",
     "height": 104,
     "referenced_widgets": [
      "37e39aecfd47422caebaaff573c0a4c5",
      "695ece0128cf4a20a4b89ac36b33dcac",
      "a510752e94a646a0b8b49e9384297e77",
      "89e37a0fd30a4d7d8bab590d9a11354c",
      "d4701853576f496789acf5cdfed0d8be",
      "f93768d68a5d4e57894cadbd7eed598e",
      "1806043268d3420185022ce2c3813ae9",
      "c464954c23074e3e8ff9f98fab94ff88",
      "856e40495e27450ea4fcbc6797275f14",
      "043f3eff06ec494d88ba2d308877286a",
      "b4f50cede39d48aabe81774b5d339665"
     ]
    },
    "id": "HDi0nQCBJ1Ku",
    "outputId": "1dae652e-25f6-4c2d-b303-97e5ba611ebb"
   },
   "outputs": [
    {
     "data": {
      "application/vnd.jupyter.widget-view+json": {
       "model_id": "37e39aecfd47422caebaaff573c0a4c5",
       "version_major": 2,
       "version_minor": 0
      },
      "text/plain": [
       "model.safetensors:   0%|          | 0.00/440M [00:00<?, ?B/s]"
      ]
     },
     "metadata": {},
     "output_type": "display_data"
    },
    {
     "name": "stderr",
     "output_type": "stream",
     "text": [
      "Some weights of BertForSequenceClassification were not initialized from the model checkpoint at bert-base-uncased and are newly initialized: ['classifier.bias', 'classifier.weight']\n",
      "You should probably TRAIN this model on a down-stream task to be able to use it for predictions and inference.\n"
     ]
    }
   ],
   "source": [
    "model = AutoModelForSequenceClassification.from_pretrained(\n",
    "    model_ckpt,\n",
    "    num_labels=3,\n",
    "    id2label={0: \"wrong_answer\", 1: \"accepted\", 2: \"runtime_error\"},\n",
    "    label2id={\"wrong_answer\": 0, \"accepted\": 1, \"runtime_error\": 2},\n",
    ")\n"
   ]
  },
  {
   "cell_type": "code",
   "execution_count": null,
   "metadata": {
    "id": "E4gygfiTKTGO"
   },
   "outputs": [],
   "source": [
    "cnt         = Counter(train_df[\"label\"])\n",
    "tot         = sum(cnt.values())\n",
    "weights     = [tot / (3 * cnt[i]) for i in range(3)]\n",
    "class_wts   = torch.tensor(weights, dtype=torch.float)\n"
   ]
  },
  {
   "cell_type": "code",
   "execution_count": null,
   "metadata": {
    "id": "dagH_0_LKWnv"
   },
   "outputs": [],
   "source": [
    "from transformers import Trainer, TrainerCallback\n",
    "\n",
    "class WeightedTrainer(Trainer):\n",
    "    def __init__(self, *args, class_weights=None, **kwargs):\n",
    "        super().__init__(*args, **kwargs)\n",
    "        self.class_weights = class_weights.to(self.args.device)\n",
    "\n",
    "    def compute_loss(self, model, inputs, return_outputs=False, **kwargs):\n",
    "        labels  = inputs.get(\"labels\")\n",
    "        outputs = model(**inputs)\n",
    "        logits  = outputs.get(\"logits\")\n",
    "        loss_fn = nn.CrossEntropyLoss(weight=self.class_weights)\n",
    "        loss    = loss_fn(logits, labels)\n",
    "        return (loss, outputs) if return_outputs else loss\n"
   ]
  },
  {
   "cell_type": "code",
   "execution_count": null,
   "metadata": {
    "id": "X8GiibM0KZCp"
   },
   "outputs": [],
   "source": [
    "from sklearn.metrics import accuracy_score, precision_recall_fscore_support\n",
    "\n",
    "def compute_metrics(eval_pred):\n",
    "    logits, labels = eval_pred\n",
    "    preds = logits.argmax(axis=-1)\n",
    "    prec, rec, f1, _ = precision_recall_fscore_support(\n",
    "        labels, preds, average=\"macro\"\n",
    "    )\n",
    "    acc = accuracy_score(labels, preds)\n",
    "    return {\"accuracy\": acc, \"precision\": prec, \"recall\": rec, \"f1\": f1}\n"
   ]
  },
  {
   "cell_type": "code",
   "execution_count": null,
   "metadata": {
    "colab": {
     "base_uri": "https://localhost:8080/"
    },
    "id": "k3YCGLveKbQn",
    "outputId": "87b0337c-6959-4d60-81b3-8bb21a53d07b"
   },
   "outputs": [
    {
     "name": "stderr",
     "output_type": "stream",
     "text": [
      "Using the `WANDB_DISABLED` environment variable is deprecated and will be removed in v5. Use the --report_to flag to control the integrations used for logging result (for instance --report_to none).\n"
     ]
    }
   ],
   "source": [
    "training_args = TrainingArguments(\n",
    "    output_dir=\"bert-base-runs\",\n",
    "    eval_strategy=\"epoch\",\n",
    "    save_strategy=\"epoch\",\n",
    "    num_train_epochs=10,\n",
    "    per_device_train_batch_size=8,\n",
    "    per_device_eval_batch_size=8,\n",
    "    learning_rate=2e-5,\n",
    "    weight_decay=0.01,\n",
    "    load_best_model_at_end=True,\n",
    "    metric_for_best_model=\"f1\",\n",
    "    save_total_limit=1,\n",
    "    logging_steps=100,\n",
    "    seed=42\n",
    ")\n"
   ]
  },
  {
   "cell_type": "code",
   "execution_count": null,
   "metadata": {
    "colab": {
     "base_uri": "https://localhost:8080/",
     "height": 495
    },
    "id": "GdxgkJaNKdSO",
    "outputId": "2dfd1a47-56d0-4e46-8feb-229ad8e949e2"
   },
   "outputs": [
    {
     "name": "stderr",
     "output_type": "stream",
     "text": [
      "/tmp/ipython-input-33-3850170303.py:5: FutureWarning: `tokenizer` is deprecated and will be removed in version 5.0.0 for `WeightedTrainer.__init__`. Use `processing_class` instead.\n",
      "  super().__init__(*args, **kwargs)\n"
     ]
    },
    {
     "data": {
      "text/html": [
       "\n",
       "    <div>\n",
       "      \n",
       "      <progress value='16540' max='16540' style='width:300px; height:20px; vertical-align: middle;'></progress>\n",
       "      [16540/16540 27:30, Epoch 10/10]\n",
       "    </div>\n",
       "    <table border=\"1\" class=\"dataframe\">\n",
       "  <thead>\n",
       " <tr style=\"text-align: left;\">\n",
       "      <th>Epoch</th>\n",
       "      <th>Training Loss</th>\n",
       "      <th>Validation Loss</th>\n",
       "      <th>Accuracy</th>\n",
       "      <th>Precision</th>\n",
       "      <th>Recall</th>\n",
       "      <th>F1</th>\n",
       "    </tr>\n",
       "  </thead>\n",
       "  <tbody>\n",
       "    <tr>\n",
       "      <td>1</td>\n",
       "      <td>0.923300</td>\n",
       "      <td>0.886188</td>\n",
       "      <td>0.614268</td>\n",
       "      <td>0.561189</td>\n",
       "      <td>0.571588</td>\n",
       "      <td>0.562654</td>\n",
       "    </tr>\n",
       "    <tr>\n",
       "      <td>2</td>\n",
       "      <td>0.867900</td>\n",
       "      <td>0.846837</td>\n",
       "      <td>0.616687</td>\n",
       "      <td>0.598374</td>\n",
       "      <td>0.590436</td>\n",
       "      <td>0.575414</td>\n",
       "    </tr>\n",
       "    <tr>\n",
       "      <td>3</td>\n",
       "      <td>0.768800</td>\n",
       "      <td>0.882518</td>\n",
       "      <td>0.663845</td>\n",
       "      <td>0.598614</td>\n",
       "      <td>0.594136</td>\n",
       "      <td>0.594177</td>\n",
       "    </tr>\n",
       "    <tr>\n",
       "      <td>4</td>\n",
       "      <td>0.698800</td>\n",
       "      <td>0.883959</td>\n",
       "      <td>0.651753</td>\n",
       "      <td>0.600774</td>\n",
       "      <td>0.606880</td>\n",
       "      <td>0.599576</td>\n",
       "    </tr>\n",
       "    <tr>\n",
       "      <td>5</td>\n",
       "      <td>0.580600</td>\n",
       "      <td>0.992519</td>\n",
       "      <td>0.662031</td>\n",
       "      <td>0.591924</td>\n",
       "      <td>0.590827</td>\n",
       "      <td>0.591134</td>\n",
       "    </tr>\n",
       "    <tr>\n",
       "      <td>6</td>\n",
       "      <td>0.494100</td>\n",
       "      <td>1.160631</td>\n",
       "      <td>0.640266</td>\n",
       "      <td>0.575801</td>\n",
       "      <td>0.576321</td>\n",
       "      <td>0.574398</td>\n",
       "    </tr>\n",
       "    <tr>\n",
       "      <td>7</td>\n",
       "      <td>0.365800</td>\n",
       "      <td>1.408378</td>\n",
       "      <td>0.652358</td>\n",
       "      <td>0.585359</td>\n",
       "      <td>0.589038</td>\n",
       "      <td>0.586880</td>\n",
       "    </tr>\n",
       "    <tr>\n",
       "      <td>8</td>\n",
       "      <td>0.333200</td>\n",
       "      <td>1.864903</td>\n",
       "      <td>0.666868</td>\n",
       "      <td>0.594684</td>\n",
       "      <td>0.592095</td>\n",
       "      <td>0.592764</td>\n",
       "    </tr>\n",
       "    <tr>\n",
       "      <td>9</td>\n",
       "      <td>0.323400</td>\n",
       "      <td>2.198288</td>\n",
       "      <td>0.663845</td>\n",
       "      <td>0.593345</td>\n",
       "      <td>0.593236</td>\n",
       "      <td>0.593290</td>\n",
       "    </tr>\n",
       "    <tr>\n",
       "      <td>10</td>\n",
       "      <td>0.249500</td>\n",
       "      <td>2.358021</td>\n",
       "      <td>0.667473</td>\n",
       "      <td>0.598481</td>\n",
       "      <td>0.594212</td>\n",
       "      <td>0.596038</td>\n",
       "    </tr>\n",
       "  </tbody>\n",
       "</table><p>"
      ],
      "text/plain": [
       "<IPython.core.display.HTML object>"
      ]
     },
     "metadata": {},
     "output_type": "display_data"
    },
    {
     "data": {
      "text/plain": [
       "TrainOutput(global_step=16540, training_loss=0.5573741600908421, metrics={'train_runtime': 1649.9759, 'train_samples_per_second': 80.195, 'train_steps_per_second': 10.024, 'total_flos': 1.740758371688448e+16, 'train_loss': 0.5573741600908421, 'epoch': 10.0})"
      ]
     },
     "execution_count": 36,
     "metadata": {},
     "output_type": "execute_result"
    }
   ],
   "source": [
    "trainer = WeightedTrainer(\n",
    "    model=model,\n",
    "    args=training_args,\n",
    "    train_dataset=train_ds,\n",
    "    eval_dataset=valid_ds,\n",
    "    tokenizer=tokenizer,\n",
    "    compute_metrics=compute_metrics,\n",
    "    class_weights=class_wts\n",
    ")\n",
    "\n",
    "trainer.train()\n"
   ]
  },
  {
   "cell_type": "code",
   "execution_count": null,
   "metadata": {
    "colab": {
     "base_uri": "https://localhost:8080/",
     "height": 74
    },
    "id": "G2wxpxX2Kh5U",
    "outputId": "3537218f-52f7-457c-dece-918c1e7ed7fe"
   },
   "outputs": [
    {
     "data": {
      "text/html": [
       "\n",
       "    <div>\n",
       "      \n",
       "      <progress value='207' max='207' style='width:300px; height:20px; vertical-align: middle;'></progress>\n",
       "      [207/207 00:03]\n",
       "    </div>\n",
       "    "
      ],
      "text/plain": [
       "<IPython.core.display.HTML object>"
      ]
     },
     "metadata": {},
     "output_type": "display_data"
    },
    {
     "name": "stdout",
     "output_type": "stream",
     "text": [
      "{'eval_loss': 0.9137625694274902, 'eval_accuracy': 0.6471299093655589, 'eval_precision': 0.6005708107172542, 'eval_recall': 0.604336114830519, 'eval_f1': 0.5981017895412909, 'eval_runtime': 3.7832, 'eval_samples_per_second': 437.459, 'eval_steps_per_second': 54.715, 'epoch': 10.0}\n"
     ]
    }
   ],
   "source": [
    "metrics = trainer.evaluate(test_ds)\n",
    "print(metrics)\n",
    "\n"
   ]
  },
  {
   "cell_type": "code",
   "execution_count": null,
   "metadata": {
    "colab": {
     "base_uri": "https://localhost:8080/",
     "height": 472
    },
    "id": "OSYjBM7RSOwN",
    "outputId": "438df8e0-960d-4c5d-d2bd-ef27e91c24af"
   },
   "outputs": [
    {
     "data": {
      "text/html": [],
      "text/plain": [
       "<IPython.core.display.HTML object>"
      ]
     },
     "metadata": {},
     "output_type": "display_data"
    },
    {
     "data": {
      "image/png": "[encoded data removed]",
      "text/plain": [
       "<Figure size 640x480 with 2 Axes>"
      ]
     },
     "metadata": {},
     "output_type": "display_data"
    }
   ],
   "source": [
    "# Get predictions\n",
    "bert_preds_output = trainer.predict(test_ds)\n",
    "bert_preds = np.argmax(bert_preds_output.predictions, axis=1)\n",
    "bert_labels = bert_preds_output.label_ids\n",
    "\n",
    "# Compute confusion matrix\n",
    "cm_bert = confusion_matrix(bert_labels, bert_preds)\n",
    "\n",
    "# Plot\n",
    "disp = ConfusionMatrixDisplay(confusion_matrix=cm_bert,\n",
    "                              display_labels=[\"Wrong Answer\", \"Accepted\", \"Runtime Error\"])\n",
    "disp.plot(cmap=plt.cm.Oranges, values_format='d')\n",
    "plt.title(\"BERT - Confusion Matrix\")\n",
    "plt.show()\n"
   ]
  },
  {
   "cell_type": "code",
   "execution_count": null,
   "metadata": {
    "id": "m1mgU3OcUyCw"
   },
   "outputs": [],
   "source": []
  }
 ],
 "metadata": {
  "accelerator": "GPU",
  "colab": {
   "gpuType": "L4",
   "provenance": []
  },
  "kernelspec": {
   "display_name": "Python 3",
   "name": "python3"
  },
  "language_info": {
   "name": "python"
  }
 },
 "nbformat": 4,
 "nbformat_minor": 0
}
